{
  "nbformat": 4,
  "nbformat_minor": 0,
  "metadata": {
    "colab": {
      "provenance": [],
      "authorship_tag": "ABX9TyNo9JUTsX/0Zt8ETJ/mVk1V",
      "include_colab_link": true
    },
    "kernelspec": {
      "name": "python3",
      "display_name": "Python 3"
    },
    "language_info": {
      "name": "python"
    }
  },
  "cells": [
    {
      "cell_type": "markdown",
      "metadata": {
        "id": "view-in-github",
        "colab_type": "text"
      },
      "source": [
        "<a href=\"https://colab.research.google.com/github/yogapatangga/RoboticTasks/blob/main/7thWeekTasks/robot_navigation_launch.ipynb\" target=\"_parent\"><img src=\"https://colab.research.google.com/assets/colab-badge.svg\" alt=\"Open In Colab\"/></a>"
      ]
    },
    {
      "cell_type": "code",
      "execution_count": null,
      "metadata": {
        "id": "VwL1QFPAopE1"
      },
      "outputs": [],
      "source": [
        "<launch>\n",
        "  <!-- Meluncurkan node untuk mengontrol robot -->\n",
        "  <node name=\"robot_controller\" pkg=\"robot_control\" type=\"robot_control_node\" output=\"screen\">\n",
        "    <param name=\"robot_speed\" value=\"1.0\" />\n",
        "  </node>\n",
        "\n",
        "  <!-- Meluncurkan node sensor (misalnya lidar) -->\n",
        "  <node name=\"lidar_sensor\" pkg=\"sensor_drivers\" type=\"lidar_node\" output=\"screen\">\n",
        "    <param name=\"sensor_topic\" value=\"/scan\" />\n",
        "  </node>\n",
        "</launch>"
      ]
    }
  ]
}